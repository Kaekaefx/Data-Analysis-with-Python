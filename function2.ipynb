{
  "nbformat": 4,
  "nbformat_minor": 0,
  "metadata": {
    "colab": {
      "name": "function2.ipynb",
      "provenance": [],
      "authorship_tag": "ABX9TyOScxIMo3ZswnrDOOzDsYQP",
      "include_colab_link": true
    },
    "kernelspec": {
      "name": "python3",
      "display_name": "Python 3"
    }
  },
  "cells": [
    {
      "cell_type": "markdown",
      "metadata": {
        "id": "view-in-github",
        "colab_type": "text"
      },
      "source": [
        "<a href=\"https://colab.research.google.com/github/Kaekaefx/Data-Analysis-with-Python/blob/master/function2.ipynb\" target=\"_parent\"><img src=\"https://colab.research.google.com/assets/colab-badge.svg\" alt=\"Open In Colab\"/></a>"
      ]
    },
    {
      "cell_type": "markdown",
      "metadata": {
        "id": "rQIz0kjeJYYi",
        "colab_type": "text"
      },
      "source": [
        "# Function 2: Five Number Summary\n",
        "\n",
        "Write a function which takes in a list of integers and returns a dictionary of the [five number summary.](https://www.statisticshowto.datasciencecentral.com/how-to-find-a-five-number-summary-in-statistics/) Answers should be rounded to the nearest second decimal.\n",
        "\n",
        "_**Expected Output:**_\n",
        "\n",
        "```python\n",
        "\n",
        "gauteng = [39660.0,\n",
        "            36024.0,\n",
        "            32127.0,\n",
        "            39488.0,\n",
        "            18422.0,\n",
        "            23532.0,\n",
        "            8842.0,\n",
        "            37416.0,\n",
        "            16156.0,\n",
        "            18730.0,\n",
        "            19261.0,\n",
        "            25275.0]\n",
        "\n",
        "five_num_summ(gauteng) == {'max': 39660.0,\n",
        "                           'median': 24403.5,\n",
        "                           'min': 8842.0,\n",
        "                           'q1': 18422.5,\n",
        "                           'q3': 36024.5}\n",
        "\n",
        "```"
      ]
    },
    {
      "cell_type": "code",
      "metadata": {
        "id": "JZWFTze0vThR",
        "colab_type": "code",
        "colab": {}
      },
      "source": [
        "def five_num_summ(items):\n",
        "\n",
        "  items.sort()\n",
        "  med_pos = lambda a, start, end: (((end - start + 1) + 1) // 2 - 1) + start\n",
        "    \n",
        "  q2_pos = med_pos(items, 0, len(items))\n",
        "  q1_pos = med_pos(items, 0, q2_pos)\n",
        "  q3_pos = med_pos(items, len(items), q2_pos + 1)\n",
        "    \n",
        "  mx = max(items)\n",
        "  mn = min(items)\n",
        "    \n",
        "  if len(items) % 2 == 0:\n",
        "    q2 = (items[q2_pos] + items[q2_pos - 1]) / 2.0\n",
        "    if q2_pos % 2 == 0:\n",
        "      q1 = (items[q1_pos] + items[q1_pos - 1]) / 2.0\n",
        "      q3 = (items[q3_pos] + items[q3_pos - 1]) / 2.0\n",
        "    else:\n",
        "      q1 = items[q1_pos]\n",
        "      q3 = items[q3_pos]\n",
        "  else:\n",
        "    q2 = items[q2_pos]\n",
        "    if q2_pos % 2 == 0:\n",
        "      q1 = (items[q1_pos] + items[q1_pos - 1]) / 2.0\n",
        "      q3 = (items[q3_pos] + items[q3_pos - 1]) / 2.0\n",
        "    else:\n",
        "      q1 = items[q1_pos]\n",
        "      q3 = items[q3_pos]\n",
        "\n",
        "  dic =  {'max': mx, 'median': q2, 'min': mn, 'q1': q1, 'q3': q3}\n",
        "  return dic"
      ],
      "execution_count": 0,
      "outputs": []
    },
    {
      "cell_type": "code",
      "metadata": {
        "id": "yQKq4ToO5F-f",
        "colab_type": "code",
        "colab": {}
      },
      "source": [
        "gauteng = [39660.0,\n",
        "            36024.0,\n",
        "            32127.0,\n",
        "            39488.0,\n",
        "            18422.0,\n",
        "            23532.0,\n",
        "            8842.0,\n",
        "            37416.0,\n",
        "            16156.0,\n",
        "            18730.0,\n",
        "            19261.0,\n",
        "            25275.0]"
      ],
      "execution_count": 0,
      "outputs": []
    },
    {
      "cell_type": "code",
      "metadata": {
        "id": "Y1cyTKvd5Qy6",
        "colab_type": "code",
        "colab": {}
      },
      "source": [
        "n = five_num_summ(gauteng)"
      ],
      "execution_count": 0,
      "outputs": []
    },
    {
      "cell_type": "code",
      "metadata": {
        "id": "ZJ05pMvr5d6T",
        "colab_type": "code",
        "colab": {
          "base_uri": "https://localhost:8080/",
          "height": 34
        },
        "outputId": "927947da-8711-4ad2-d604-e387c77ef0cc"
      },
      "source": [
        "print(n)"
      ],
      "execution_count": 44,
      "outputs": [
        {
          "output_type": "stream",
          "text": [
            "{'max': 39660.0, 'median': 24403.5, 'min': 8842.0, 'q1': 18576.0, 'q3': 36720.0}\n"
          ],
          "name": "stdout"
        }
      ]
    },
    {
      "cell_type": "code",
      "metadata": {
        "id": "Hdt4SVM36DvO",
        "colab_type": "code",
        "colab": {}
      },
      "source": [
        ""
      ],
      "execution_count": 0,
      "outputs": []
    }
  ]
}
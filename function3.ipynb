{
  "nbformat": 4,
  "nbformat_minor": 0,
  "metadata": {
    "colab": {
      "name": "function3.ipynb",
      "provenance": [],
      "authorship_tag": "ABX9TyNpIfuHhUlqppU5j7iBWMkO",
      "include_colab_link": true
    },
    "kernelspec": {
      "name": "python3",
      "display_name": "Python 3"
    }
  },
  "cells": [
    {
      "cell_type": "markdown",
      "metadata": {
        "id": "view-in-github",
        "colab_type": "text"
      },
      "source": [
        "<a href=\"https://colab.research.google.com/github/Kaekaefx/Data-Analysis-with-Python/blob/master/function3.ipynb\" target=\"_parent\"><img src=\"https://colab.research.google.com/assets/colab-badge.svg\" alt=\"Open In Colab\"/></a>"
      ]
    },
    {
      "cell_type": "markdown",
      "metadata": {
        "id": "ETAOSB2oP9-Z",
        "colab_type": "text"
      },
      "source": [
        "# Function 3: Date Parser\n",
        "\n",
        "Write a function which takes a list of datetime strings and converts it into a list of strings with only the date. \n",
        "<br>\n",
        "<br>\n",
        "_**Expected Output:**_\n",
        "\n",
        "```python\n",
        "\n",
        "dates = ['2019-11-29 12:50:54',\n",
        "         '2019-11-29 12:46:53',\n",
        "         '2019-11-29 12:46:10',\n",
        "         '2019-11-29 12:33:36',\n",
        "         '2019-11-29 12:17:43',\n",
        "         '2019-11-29 11:28:40']\n",
        "\n",
        "date_parser(dates) == ['2019-11-29',\n",
        "                       '2019-11-29',\n",
        "                       '2019-11-29',\n",
        "                       '2019-11-29',\n",
        "                       '2019-11-29',\n",
        "                       '2019-11-29']\n",
        "\n",
        "```"
      ]
    },
    {
      "cell_type": "code",
      "metadata": {
        "id": "5RjaK7Sp8rpt",
        "colab_type": "code",
        "colab": {}
      },
      "source": [
        "def date_parser(list_dates):\n",
        "\n",
        "  result = []\n",
        "  for date in list_dates:\n",
        "    result.append(date[:10])\n",
        "  return result"
      ],
      "execution_count": 0,
      "outputs": []
    },
    {
      "cell_type": "code",
      "metadata": {
        "id": "LgfKMmcv_eCr",
        "colab_type": "code",
        "colab": {}
      },
      "source": [
        "dates = ['2019-11-29 12:50:54',\n",
        "         '2019-11-29 12:46:53',\n",
        "         '2019-11-29 12:46:10',\n",
        "         '2019-11-29 12:33:36',\n",
        "         '2019-11-29 12:17:43',\n",
        "         '2019-11-29 11:28:40']"
      ],
      "execution_count": 0,
      "outputs": []
    },
    {
      "cell_type": "code",
      "metadata": {
        "id": "XvKt0PJg_iXW",
        "colab_type": "code",
        "colab": {}
      },
      "source": [
        "a = date_parser(dates)"
      ],
      "execution_count": 0,
      "outputs": []
    },
    {
      "cell_type": "code",
      "metadata": {
        "id": "inRphE3j_nem",
        "colab_type": "code",
        "colab": {
          "base_uri": "https://localhost:8080/",
          "height": 119
        },
        "outputId": "9ecb8a69-4f23-4142-9b9b-7107b7b10aae"
      },
      "source": [
        "a"
      ],
      "execution_count": 8,
      "outputs": [
        {
          "output_type": "execute_result",
          "data": {
            "text/plain": [
              "['2019-11-29',\n",
              " '2019-11-29',\n",
              " '2019-11-29',\n",
              " '2019-11-29',\n",
              " '2019-11-29',\n",
              " '2019-11-29']"
            ]
          },
          "metadata": {
            "tags": []
          },
          "execution_count": 8
        }
      ]
    },
    {
      "cell_type": "code",
      "metadata": {
        "id": "TjbRwN0e_o3p",
        "colab_type": "code",
        "colab": {}
      },
      "source": [
        ""
      ],
      "execution_count": 0,
      "outputs": []
    }
  ]
}
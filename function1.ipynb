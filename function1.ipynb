{
  "nbformat": 4,
  "nbformat_minor": 0,
  "metadata": {
    "colab": {
      "name": "function1.ipynb",
      "provenance": [],
      "authorship_tag": "ABX9TyP3gOqiXEgXtiyxUMeiE23u",
      "include_colab_link": true
    },
    "kernelspec": {
      "name": "python3",
      "display_name": "Python 3"
    }
  },
  "cells": [
    {
      "cell_type": "markdown",
      "metadata": {
        "id": "view-in-github",
        "colab_type": "text"
      },
      "source": [
        "<a href=\"https://colab.research.google.com/github/Kaekaefx/Data-Analysis-with-Python/blob/master/function1.ipynb\" target=\"_parent\"><img src=\"https://colab.research.google.com/assets/colab-badge.svg\" alt=\"Open In Colab\"/></a>"
      ]
    },
    {
      "cell_type": "markdown",
      "metadata": {
        "id": "fQL8b34-HThO",
        "colab_type": "text"
      },
      "source": [
        "# Function 1: Metric Dictionary\n",
        "\n",
        "Write a function which takes in a list of integers and returns a dictionary of the mean, median, variance, standard deviation, min and max. Answers should be rounded to the second decimal.\n",
        "\n",
        "_**Expected Output**_:\n",
        "\n",
        "```python\n",
        "gauteng = [39660.0,\n",
        "            36024.0,\n",
        "            32127.0,\n",
        "            39488.0,\n",
        "            18422.0,\n",
        "            23532.0,\n",
        "            8842.0,\n",
        "            37416.0,\n",
        "            16156.0,\n",
        "            18730.0,\n",
        "            19261.0,\n",
        "            25275.0]\n",
        "\n",
        "dictionary_of_metrics(gauteng) == {'mean': 26244.42,\n",
        "                                   'median': 24403.5,\n",
        "                                   'variance': 108160153.17,\n",
        "                                   'standard deviation': 10400.01,\n",
        "                                   'min': 8842.0,\n",
        "                                   'max': 39660.0}\n",
        " ```"
      ]
    },
    {
      "cell_type": "code",
      "metadata": {
        "id": "oRz9uE3yd5NY",
        "colab_type": "code",
        "colab": {}
      },
      "source": [
        "def dictionary_of_metrics(items):\n",
        "\n",
        "  length = len(items)\n",
        "  mean = sum(items) / float(length)\n",
        "  mx = max(items)\n",
        "  mn = min(items)\n",
        "  var = sum((i - mean) ** 2 for i in items) / float(length - 1)\n",
        "  std = var ** 0.5\n",
        "  items.sort()\n",
        "  if len(items) % 2 == 0:\n",
        "    median = (items[length // 2] + items[length // 2 - 1]) / 2.0\n",
        "  else:\n",
        "    median = items[length // 2]\n",
        "  metrics = {'mean': mean, 'median': median, 'variance': var, 'standard deviation': std, 'min': mn, 'max': mx}\n",
        "  return metrics"
      ],
      "execution_count": 0,
      "outputs": []
    },
    {
      "cell_type": "code",
      "metadata": {
        "id": "cOuvjJmupREo",
        "colab_type": "code",
        "colab": {}
      },
      "source": [
        "gauteng = [39660.0,\n",
        "            36024.0,\n",
        "            32127.0,\n",
        "            39488.0,\n",
        "            18422.0,\n",
        "            23532.0,\n",
        "            8842.0,\n",
        "            37416.0,\n",
        "            16156.0,\n",
        "            18730.0,\n",
        "            19261.0,\n",
        "            25275.0]"
      ],
      "execution_count": 0,
      "outputs": []
    },
    {
      "cell_type": "code",
      "metadata": {
        "id": "WmumyRdYpcVw",
        "colab_type": "code",
        "colab": {}
      },
      "source": [
        "dic = dictionary_of_metrics(gauteng)"
      ],
      "execution_count": 0,
      "outputs": []
    },
    {
      "cell_type": "code",
      "metadata": {
        "id": "Fh2AbBM9pjR8",
        "colab_type": "code",
        "colab": {
          "base_uri": "https://localhost:8080/",
          "height": 119
        },
        "outputId": "58fe7a5e-8f3e-4c1e-fde5-ea5d1955edcd"
      },
      "source": [
        "dic"
      ],
      "execution_count": 8,
      "outputs": [
        {
          "output_type": "execute_result",
          "data": {
            "text/plain": [
              "{'max': 39660.0,\n",
              " 'mean': 26244.416666666668,\n",
              " 'median': 24403.5,\n",
              " 'min': 8842.0,\n",
              " 'standard deviation': 10400.007364143665,\n",
              " 'variance': 108160153.17424245}"
            ]
          },
          "metadata": {
            "tags": []
          },
          "execution_count": 8
        }
      ]
    },
    {
      "cell_type": "code",
      "metadata": {
        "id": "UjEtndxVpkj3",
        "colab_type": "code",
        "colab": {}
      },
      "source": [
        ""
      ],
      "execution_count": 0,
      "outputs": []
    }
  ]
}